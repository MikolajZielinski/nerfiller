{
    "cells": [
        {
            "cell_type": "code",
            "execution_count": null,
            "metadata": {},
            "outputs": [],
            "source": [
                "%load_ext autoreload\n",
                "%autoreload 2\n",
                "\n",
                "from nerfiller.inpaint.upscaler import Upscaler\n",
                "import mediapy\n",
                "import torch\n",
                "\n",
                "device = \"cuda:0\"\n",
                "upscaler = Upscaler(device)\n"
            ]
        },
        {
            "cell_type": "code",
            "execution_count": null,
            "metadata": {},
            "outputs": [],
            "source": [
                "size = 512\n",
                "intermediate_size = 256\n",
                "display_height = 512\n",
                "filenames = [\n",
                "    \"../data/nerfstudio/billiards/images/image_000000.png\",\n",
                "]\n",
                "images = torch.cat([torch.from_numpy(mediapy.read_image(filename) / 255.0).permute(2,0,1)[None] for filename in filenames]).to(torch.float32).to(device)\n",
                "images = torch.nn.functional.interpolate(images, size=(intermediate_size, intermediate_size), mode=\"bilinear\")\n",
                "images = torch.nn.functional.interpolate(images, size=(size, size), mode=\"bilinear\")\n",
                "mediapy.show_images(list(images.permute(0,2,3,1).detach().cpu()), height=display_height)\n",
                "with torch.no_grad():\n",
                "    upsampled_images = upscaler.upsample(images.to(upscaler.device), num_inference_steps=10, noise_level=20).to(device)\n",
                "mediapy.show_images(list(upsampled_images.permute(0,2,3,1).detach().cpu()), height=display_height)"
            ]
        },
        {
            "cell_type": "code",
            "execution_count": null,
            "metadata": {},
            "outputs": [],
            "source": []
        }
    ],
    "metadata": {
        "kernelspec": {
            "display_name": "nerfiller",
            "language": "python",
            "name": "python3"
        },
        "language_info": {
            "codemirror_mode": {
                "name": "ipython",
                "version": 3
            },
            "file_extension": ".py",
            "mimetype": "text/x-python",
            "name": "python",
            "nbconvert_exporter": "python",
            "pygments_lexer": "ipython3",
            "version": "3.8.16"
        },
        "orig_nbformat": 4
    },
    "nbformat": 4,
    "nbformat_minor": 2
}

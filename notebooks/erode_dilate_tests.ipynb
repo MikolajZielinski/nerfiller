{
    "cells": [
        {
            "cell_type": "code",
            "execution_count": 1,
            "metadata": {},
            "outputs": [],
            "source": [
                "%load_ext autoreload\n",
                "%autoreload 2\n",
                "\n",
                "from nerfstudio.data.utils.pixel_sampling_utils import erode, dilate, erode_mask\n",
                "\n",
                "import torch\n",
                "import mediapy"
            ]
        },
        {
            "cell_type": "code",
            "execution_count": 2,
            "metadata": {},
            "outputs": [
                {
                    "data": {
                        "text/html": [
                            "<table class=\"show_images\" style=\"border-spacing:0px;\"><tr><td style=\"padding:1px;\"><img width=\"200\" height=\"200\" style=\"image-rendering:pixelated; object-fit:cover;\" src=\"data:image/png;base64,iVBORw0KGgoAAAANSUhEUgAAAAgAAAAICAIAAABLbSncAAAAJUlEQVR4nGNgwAX+//8PJ5EZDNj5DAxMOI3CVE7YNBQhLNJoEgBGGB3ldbR4ngAAAABJRU5ErkJggg==\"/></td><td style=\"padding:1px;\"><img width=\"200\" height=\"200\" style=\"image-rendering:pixelated; object-fit:cover;\" src=\"data:image/png;base64,iVBORw0KGgoAAAANSUhEUgAAAAgAAAAICAIAAABLbSncAAAAJUlEQVR4nGNgIAj+//9PQBTBhrOwayJgJmFVTJjS////////PwBtDB3lAE2L/gAAAABJRU5ErkJggg==\"/></td><td style=\"padding:1px;\"><img width=\"200\" height=\"200\" style=\"image-rendering:pixelated; object-fit:cover;\" src=\"data:image/png;base64,iVBORw0KGgoAAAANSUhEUgAAAAgAAAAICAIAAABLbSncAAAAKElEQVR4nGP4//8/AxJA46II/f//H0Uai1pM8P//fwyNuEzHKUfYcgDd2SzUgA0gGAAAAABJRU5ErkJggg==\"/></td><td style=\"padding:1px;\"><img width=\"200\" height=\"200\" style=\"image-rendering:pixelated; object-fit:cover;\" src=\"data:image/png;base64,iVBORw0KGgoAAAANSUhEUgAAAAgAAAAICAIAAABLbSncAAAALElEQVR4nGNkQAL///+HMBgZGRnwAbhCOBdNBNU0Ys2FqPv//z+6iVhMRwMAC7Qg6OwXjBsAAAAASUVORK5CYII=\"/></td><td style=\"padding:1px;\"><img width=\"200\" height=\"200\" style=\"image-rendering:pixelated; object-fit:cover;\" src=\"data:image/png;base64,iVBORw0KGgoAAAANSUhEUgAAAAgAAAAICAIAAABLbSncAAAAIklEQVR4nGNgIBn8//8fTpKoCZlLhAHISiBsRgSLkRFZGgCI5RrqFAV6/gAAAABJRU5ErkJggg==\"/></td></tr></table>"
                        ],
                        "text/plain": [
                            "<IPython.core.display.HTML object>"
                        ]
                    },
                    "metadata": {},
                    "output_type": "display_data"
                },
                {
                    "data": {
                        "text/html": [
                            "<table class=\"show_images\" style=\"border-spacing:0px;\"><tr><td style=\"padding:1px;\"><img width=\"200\" height=\"200\" style=\"image-rendering:pixelated; object-fit:cover;\" src=\"data:image/png;base64,iVBORw0KGgoAAAANSUhEUgAAAAgAAAAICAIAAABLbSncAAAALUlEQVR4nGP8//8/AwZgZGRkwhSFAOIkGBkZIYz///+jSCDbR6IdKK6CWwABAIyZCROP2M17AAAAAElFTkSuQmCC\"/></td><td style=\"padding:1px;\"><img width=\"200\" height=\"200\" style=\"image-rendering:pixelated; object-fit:cover;\" src=\"data:image/png;base64,iVBORw0KGgoAAAANSUhEUgAAAAgAAAAICAIAAABLbSncAAAAM0lEQVR4nGNkYGBgYGD4//8/hMHIyAhlIIsiAyasogwMDExYRfFKwG1DthldB7J9OI0CAGoEDAw26BHNAAAAAElFTkSuQmCC\"/></td><td style=\"padding:1px;\"><img width=\"200\" height=\"200\" style=\"image-rendering:pixelated; object-fit:cover;\" src=\"data:image/png;base64,iVBORw0KGgoAAAANSUhEUgAAAAgAAAAICAIAAABLbSncAAAAMElEQVR4nGP8//8/AzbAhFWUgYGBEUJh6mP6//8/sigjIyN2o+CKcNqBWwJuKBoAAM6WDwbVcyTZAAAAAElFTkSuQmCC\"/></td><td style=\"padding:1px;\"><img width=\"200\" height=\"200\" style=\"image-rendering:pixelated; object-fit:cover;\" src=\"data:image/png;base64,iVBORw0KGgoAAAANSUhEUgAAAAgAAAAICAIAAABLbSncAAAALElEQVR4nGNkgIH///8zIAFGND4cMCGUMDJil0DTysSAAxAhgdMOZMDIyAgAlywJD9a4hvEAAAAASUVORK5CYII=\"/></td><td style=\"padding:1px;\"><img width=\"200\" height=\"200\" style=\"image-rendering:pixelated; object-fit:cover;\" src=\"data:image/png;base64,iVBORw0KGgoAAAANSUhEUgAAAAgAAAAICAIAAABLbSncAAAALUlEQVR4nGNgwAEY////j+AwMsLZTLh0sKDx4QYgdCCbgyKBbBm6HchyOC0HAHw+DArk+EiRAAAAAElFTkSuQmCC\"/></td></tr></table>"
                        ],
                        "text/plain": [
                            "<IPython.core.display.HTML object>"
                        ]
                    },
                    "metadata": {},
                    "output_type": "display_data"
                }
            ],
            "source": [
                "x = (torch.rand((5, 1, 8, 8)) > .8).float()\n",
                "mediapy.show_images(x.permute(0,2,3,1), height=200)\n",
                "\n",
                "x = dilate(x)\n",
                "mediapy.show_images(x.permute(0,2,3,1), height=200)"
            ]
        },
        {
            "cell_type": "code",
            "execution_count": null,
            "metadata": {},
            "outputs": [],
            "source": []
        }
    ],
    "metadata": {
        "kernelspec": {
            "display_name": "nerfiller",
            "language": "python",
            "name": "python3"
        },
        "language_info": {
            "codemirror_mode": {
                "name": "ipython",
                "version": 3
            },
            "file_extension": ".py",
            "mimetype": "text/x-python",
            "name": "python",
            "nbconvert_exporter": "python",
            "pygments_lexer": "ipython3",
            "version": "3.8.16"
        },
        "orig_nbformat": 4
    },
    "nbformat": 4,
    "nbformat_minor": 2
}

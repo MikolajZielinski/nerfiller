{
    "cells": [
        {
            "cell_type": "code",
            "execution_count": null,
            "metadata": {},
            "outputs": [],
            "source": [
                "%load_ext autoreload\n",
                "%autoreload 2\n",
                "\n",
                "import mediapy\n",
                "import torch\n",
                "\n",
                "device = \"cuda:6\"\n",
                "\n",
                "from nerfiller.utils.metrics import MUSIQModule, CorrsModule"
            ]
        },
        {
            "cell_type": "code",
            "execution_count": null,
            "metadata": {},
            "outputs": [],
            "source": [
                "musiq_module = MUSIQModule().to(device)\n",
                "corrs_module = CorrsModule().to(device)"
            ]
        },
        {
            "cell_type": "code",
            "execution_count": null,
            "metadata": {},
            "outputs": [],
            "source": [
                "filenames = [\n",
                "    # \"../outputs/norway-none/nerfacto/2023-11-08_215018/final-renders/test/rgb/image_000002.jpg\",\n",
                "    \"../outputs/norway-none/individual-inpaint-du/2023-11-09_142533/renders/step_60000/images/image_000002.png\",\n",
                "    \"../outputs/norway-none/texture-refinement/2023-11-06_232516/renders/step_60000/images/image_000002.png\",\n",
                "    # \"../outputs/norway-none/nerfacto/2023-11-08_215018/final-renders/test/rgb/image_000058.jpg\",\n",
                "    \"../outputs/norway-none/individual-inpaint-du/2023-11-09_142533/renders/step_60000/images/image_000058.png\",\n",
                "     \"../outputs/norway-none/texture-refinement/2023-11-06_232516/renders/step_60000/images/image_000058.png\",\n",
                "]\n",
                "images = torch.cat([torch.from_numpy(mediapy.read_image(filename) / 255.0).permute(2,0,1)[None] for filename in filenames]).to(torch.float32).to(device)\n",
                "# images = torch.nn.functional.interpolate(images, scale_factor=0.25, mode=\"bilinear\")\n",
                "mediapy.show_images(list(images.permute(0,2,3,1).detach().cpu()))"
            ]
        },
        {
            "cell_type": "code",
            "execution_count": null,
            "metadata": {},
            "outputs": [],
            "source": [
                "musiq = musiq_module(images, None) # higher better\n",
                "print(musiq)"
            ]
        },
        {
            "cell_type": "code",
            "execution_count": null,
            "metadata": {},
            "outputs": [],
            "source": [
                "ds = corrs_module(images[:2], images[2:]) # higher better\n",
                "print(ds)"
            ]
        }
    ],
    "metadata": {
        "kernelspec": {
            "display_name": "nerfiller",
            "language": "python",
            "name": "python3"
        },
        "language_info": {
            "codemirror_mode": {
                "name": "ipython",
                "version": 3
            },
            "file_extension": ".py",
            "mimetype": "text/x-python",
            "name": "python",
            "nbconvert_exporter": "python",
            "pygments_lexer": "ipython3",
            "version": "3.8.16"
        },
        "orig_nbformat": 4
    },
    "nbformat": 4,
    "nbformat_minor": 2
}